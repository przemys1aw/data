{
 "cells": [
  {
   "cell_type": "code",
   "execution_count": 88,
   "id": "8c9542e6",
   "metadata": {},
   "outputs": [],
   "source": [
    "import numpy as np\n",
    "import random"
   ]
  },
  {
   "cell_type": "code",
   "execution_count": 89,
   "id": "bb4d732d",
   "metadata": {},
   "outputs": [],
   "source": [
    "n = 100"
   ]
  },
  {
   "cell_type": "code",
   "execution_count": 90,
   "id": "d031a2db",
   "metadata": {},
   "outputs": [],
   "source": [
    "x = [random.random() for k in range(n)]\n",
    "y = [random.random() for k in range(n)]"
   ]
  },
  {
   "cell_type": "code",
   "execution_count": 91,
   "id": "3443328a",
   "metadata": {},
   "outputs": [],
   "source": [
    "xa = np.array(x)\n",
    "ya = np.array(y)"
   ]
  },
  {
   "cell_type": "code",
   "execution_count": 92,
   "id": "4a6994c3",
   "metadata": {},
   "outputs": [
    {
     "data": {
      "text/plain": [
       "array([0.06972621])"
      ]
     },
     "execution_count": 92,
     "metadata": {},
     "output_type": "execute_result"
    }
   ],
   "source": [
    "xa[:1] - ya[:1]"
   ]
  },
  {
   "cell_type": "code",
   "execution_count": 93,
   "id": "67ff27b9",
   "metadata": {},
   "outputs": [
    {
     "data": {
      "text/plain": [
       "array([[0.06972621]])"
      ]
     },
     "execution_count": 93,
     "metadata": {},
     "output_type": "execute_result"
    }
   ],
   "source": [
    "xa[:1, np.newaxis] - ya[:1]"
   ]
  },
  {
   "cell_type": "code",
   "execution_count": 94,
   "id": "efe2e3af",
   "metadata": {},
   "outputs": [
    {
     "data": {
      "text/plain": [
       "array([ 0.06972621, -0.3534016 ])"
      ]
     },
     "execution_count": 94,
     "metadata": {},
     "output_type": "execute_result"
    }
   ],
   "source": [
    "xa[:2] - ya[:2]"
   ]
  },
  {
   "cell_type": "code",
   "execution_count": 95,
   "id": "2a92b4fd",
   "metadata": {},
   "outputs": [
    {
     "data": {
      "text/plain": [
       "array([[ 0.06972621,  0.14681247],\n",
       "       [-0.43048786, -0.3534016 ]])"
      ]
     },
     "execution_count": 95,
     "metadata": {},
     "output_type": "execute_result"
    }
   ],
   "source": [
    "xa[:2, np.newaxis] - ya[:2]"
   ]
  },
  {
   "cell_type": "code",
   "execution_count": 96,
   "id": "52f6eac4",
   "metadata": {},
   "outputs": [
    {
     "data": {
      "text/plain": [
       "array([ 0.06972621, -0.3534016 , -0.30065422])"
      ]
     },
     "execution_count": 96,
     "metadata": {},
     "output_type": "execute_result"
    }
   ],
   "source": [
    "xa[:3] - ya[:3]"
   ]
  },
  {
   "cell_type": "code",
   "execution_count": 97,
   "id": "b98c55b5",
   "metadata": {},
   "outputs": [
    {
     "data": {
      "text/plain": [
       "array([[ 0.06972621,  0.14681247,  0.66166319],\n",
       "       [-0.43048786, -0.3534016 ,  0.16144912],\n",
       "       [-0.8925912 , -0.81550494, -0.30065422]])"
      ]
     },
     "execution_count": 97,
     "metadata": {},
     "output_type": "execute_result"
    }
   ],
   "source": [
    "xa[:3, np.newaxis] - ya[:3]"
   ]
  },
  {
   "cell_type": "code",
   "execution_count": 98,
   "id": "7aa088b2",
   "metadata": {},
   "outputs": [
    {
     "data": {
      "text/plain": [
       "array([[ 0.06972621],\n",
       "       [-0.3534016 ],\n",
       "       [-0.30065422]])"
      ]
     },
     "execution_count": 98,
     "metadata": {},
     "output_type": "execute_result"
    }
   ],
   "source": [
    "xa[:3, np.newaxis] - ya[:3, np.newaxis]"
   ]
  },
  {
   "cell_type": "code",
   "execution_count": 99,
   "id": "4714d324",
   "metadata": {},
   "outputs": [
    {
     "data": {
      "text/plain": [
       "[0.06972620743191227,\n",
       " 0.146812473430616,\n",
       " 0.661663194040812,\n",
       " 0.4304878635590299,\n",
       " 0.3534015975603262,\n",
       " 0.1614491230498698,\n",
       " 0.892591202324653,\n",
       " 0.8155049363259493,\n",
       " 0.30065421571575335]"
      ]
     },
     "execution_count": 99,
     "metadata": {},
     "output_type": "execute_result"
    }
   ],
   "source": [
    "[abs(x[i] - y[j]) for i in range(3) for j in range(3)]"
   ]
  },
  {
   "cell_type": "code",
   "execution_count": null,
   "id": "0ca01205",
   "metadata": {},
   "outputs": [],
   "source": []
  }
 ],
 "metadata": {
  "kernelspec": {
   "display_name": "Python 3 (ipykernel)",
   "language": "python",
   "name": "python3"
  },
  "language_info": {
   "codemirror_mode": {
    "name": "ipython",
    "version": 3
   },
   "file_extension": ".py",
   "mimetype": "text/x-python",
   "name": "python",
   "nbconvert_exporter": "python",
   "pygments_lexer": "ipython3",
   "version": "3.8.10"
  }
 },
 "nbformat": 4,
 "nbformat_minor": 5
}
